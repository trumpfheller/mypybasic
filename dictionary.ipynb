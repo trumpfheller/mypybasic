{
 "cells": [
  {
   "cell_type": "markdown",
   "id": "5b37f40b-6383-41ed-a689-2b871d296cd2",
   "metadata": {
    "lines_to_next_cell": 0
   },
   "source": [
    "> [Strings](./strings.html) || [Variables](./variables.html) || [Lists](./lists.html) || [Tuples](./tuples.html) || [Dictionary](./dictionary.html) ||\n",
    ">  [Control](./control.html) || [Function](./function.html)|| [Files](./files.html) || [OOP](./oop.html) ||\n",
    "\n",
    "***\n",
    "\n",
    "### SEQUENCES\n",
    "- are iterables that support element access using integer indices \n",
    "\n",
    "### Dictionaries \n",
    "- are indexed by keys.\n",
    "\n",
    "### Dictionaries defined\n",
    "- Data in a dictionary is organized into pairs of keys and values.\n",
    "- Dictionaries are used to organize elements into collections (like lists). \n",
    "- Dictionaries map keys to values and store them in an array or collection.\n",
    "- Keys must be of a hashable type >> they must have a hash value that never changes during the key’s lifetime."
   ]
  },
  {
   "cell_type": "markdown",
   "id": "16121f10-0195-4b19-83fb-e4f0e532f2b6",
   "metadata": {},
   "source": [
    "### Syntax"
   ]
  },
  {
   "cell_type": "markdown",
   "id": "222a10ec",
   "metadata": {},
   "source": [
    "```python\n",
    "x = {key1:value1, key2:value2} \n",
    "```"
   ]
  },
  {
   "cell_type": "code",
   "execution_count": null,
   "id": "96d47b7f-43db-4349-b706-15b369262a78",
   "metadata": {},
   "outputs": [],
   "source": [
    "```python\n",
    "x = {} \n",
    "print(type(x))\n",
    "# <class 'dict'>\n",
    "```"
   ]
  },
  {
   "cell_type": "markdown",
   "id": "9aed96d9",
   "metadata": {},
   "source": [
    "Unlike lists, you don't access elements inside dictionaries using their position. \n",
    "Instead, the data inside dictionaries take the form of pairs of keys and values. \n",
    "To get a dictionary value we use its corresponding key. \n",
    "\n",
    "You can use a bunch of different data types as keys, like \n",
    "strings, integers, floats, tuples, and more. (in a list the index must be a number)\n",
    "\n",
    "In an English language dictionary the word comes with a definition.\n",
    "In the language of a Python dictionary, the word would be the key and the definition would be the value.  \n",
    "example. \n",
    "\n",
    "data in a dictionary isn't accessed based on its position. \n",
    "\n",
    "You use the key to access the corresponding value. \n",
    "Where a list index is always a number, a dictionary key can be a different data type, like a string, integer, float, or even tuples.\n",
    "When creating a dictionary, you use curly brackets: {}. \n",
    "When storing values in a dictionary, the key is specified first, followed by the corresponding value, separated by a colon. For example, animals = { \"bears\":10, \"lions\":1, \"tigers\":2 } creates a dictionary with three key value pairs, stored in the variable animals. The key \"bears\" points to the integer value 10, while the key \"lions\" points to the integer value 1, and \"tigers\" points to the integer 2. \n",
    "You can access the values by referencing the key, like this: animals[\"bears\"]. This would return the integer 10, since that’s the corresponding value for this key.\n",
    "To check if a key is contained in a dictionary using the in keyword. Just like other uses of this keyword, it will return True if the key is found in the dictionary; otherwise it will return False.\n",
    "\n",
    "Dictionaries are mutable, (can be modified by adding, removing, and replacing elements in a dictionary, similar to lists. \n",
    "To add a new key value pair to a dictionary by assigning a value to the key, like this: animals[\"zebras\"] = 2. This creates the new key in the animal dictionary called zebras, and stores the value 2. \n",
    "\n",
    "To modify the value of an existing key by doing the same thing. So animals[\"bears\"] = 11 would change the value stored in the bears key from 10 to 11. \n",
    "\n",
    "del keyword: To remove elements from a dictionary => del animals[\"lions\"] removes the key value pair from the animals dictionary.\n"
   ]
  },
  {
   "cell_type": "markdown",
   "id": "84e7d164",
   "metadata": {},
   "source": [
    "#### Creating initialized dictionaries \n",
    "- instead of a series of slots with values in them, we have a series of keys that point at values. \n",
    "- use colons and between the key and the value and separate each pair by commas.\n",
    "\n",
    "#### Example "
   ]
  },
  {
   "cell_type": "code",
   "execution_count": 1,
   "id": "6188494e",
   "metadata": {},
   "outputs": [
    {
     "name": "stdout",
     "output_type": "stream",
     "text": [
      "{'jpeg': 10, 'txt': 14, 'csv': 2, 'py': 23}\n"
     ]
    },
    {
     "data": {
      "text/plain": [
       "{'jpeg': 10, 'txt': 14, 'csv': 2, 'py': 23}"
      ]
     },
     "execution_count": 1,
     "metadata": {},
     "output_type": "execute_result"
    }
   ],
   "source": [
    "file_counts ={\"jpeg\":10, \"txt\":14, \"csv\":2, \"py\":23}\n",
    "print(file_counts)\n",
    "{'jpeg': 10, 'txt': 14, 'csv': 2, 'py': 23}"
   ]
  },
  {
   "cell_type": "markdown",
   "id": "ecb1935c",
   "metadata": {},
   "source": [
    "In this file_counts dictionary, we've stored keys that are strings, like jpg, that point at integer values, like 10. \n",
    "\n",
    "example \n",
    "we're using a dictionary to store the number of files corresponding to each extension. It makes sense to encode the file extension formatting in a string, while it's natural to represent a count as an integer number. \n",
    "\n",
    "Let's say you want to find out how many text files there are in the dictionary. \n",
    "- use the key txt to access its associated value. "
   ]
  },
  {
   "cell_type": "code",
   "execution_count": 2,
   "id": "81c0524c",
   "metadata": {},
   "outputs": [
    {
     "data": {
      "text/plain": [
       "14"
      ]
     },
     "execution_count": 2,
     "metadata": {},
     "output_type": "execute_result"
    }
   ],
   "source": [
    "file_counts = {\"jpeg\": 10, \"txt\": 14, \"csv\": 2, \"py\": 23}\n",
    "file_counts[\"txt\"]\n",
    "#OUTPUT \n",
    "14"
   ]
  },
  {
   "cell_type": "markdown",
   "id": "fda07b4a",
   "metadata": {
    "lines_to_next_cell": 0
   },
   "source": [
    "### comment\n",
    "- in pycharm it doesn’t show 14\n",
    "- IDLE gives me 14\n",
    "\n",
    "#### the \"**in**\" keyword \n",
    " - check if a key is contained in a dictionary"
   ]
  },
  {
   "cell_type": "code",
   "execution_count": 3,
   "id": "878c8976",
   "metadata": {},
   "outputs": [
    {
     "data": {
      "text/plain": [
       "False"
      ]
     },
     "execution_count": 3,
     "metadata": {},
     "output_type": "execute_result"
    }
   ],
   "source": [
    "file_counts = {\"txt\": 14, \"csv\": 2, \"py\": 23}\n",
    "\"jpeg\" in file_counts\n",
    "True\n",
    "\"html\" in file_counts \n",
    "False"
   ]
  },
  {
   "cell_type": "markdown",
   "id": "b4b0224c",
   "metadata": {},
   "source": [
    "#### add entry\n",
    "- Dictionaries are mutable (can add remove and replace entries). \n",
    "- To add an entry in a dictionary, just use the square brackets to create the key and assign a new value to it. "
   ]
  },
  {
   "cell_type": "code",
   "execution_count": 4,
   "id": "62483edf",
   "metadata": {},
   "outputs": [
    {
     "ename": "SyntaxError",
     "evalue": "invalid non-printable character U+00A0 (1451190052.py, line 1)",
     "output_type": "error",
     "traceback": [
      "  \u001b[36mCell\u001b[39m\u001b[36m \u001b[39m\u001b[32mIn[4]\u001b[39m\u001b[32m, line 1\u001b[39m\n\u001b[31m    \u001b[39m\u001b[31mfile_counts = {'txt': 14, 'csv': 2, 'py': 23, 'cfg': 8}\u001b[39m\n                                                           ^\n\u001b[31mSyntaxError\u001b[39m\u001b[31m:\u001b[39m invalid non-printable character U+00A0\n"
     ]
    }
   ],
   "source": [
    "file_counts = {'txt': 14, 'csv': 2, 'py': 23, 'cfg': 8} \n",
    "file_counts[\"cfg\"] = 8 \n",
    "print(file_counts)\n",
    "# OUTPUT\n",
    "{'txt': 14, 'csv': 2, 'py': 23, 'cfg': 8} "
   ]
  },
  {
   "cell_type": "markdown",
   "id": "ca00ac2b",
   "metadata": {},
   "source": [
    "#### keys inside of a dictionary are unique. \n",
    "If we try to store two different values for the same key, we'll just replace one with the other.\n",
    "When you use a key that already exists to set a value, \n",
    "the value that was already paired with that key is replaced. "
   ]
  },
  {
   "cell_type": "code",
   "execution_count": null,
   "id": "9cdb9bf4",
   "metadata": {},
   "outputs": [],
   "source": [
    "file_counts[\"csv\"] = 17\n",
    "print(file_counts)\n",
    "# Before\n",
    "{'txt': 14, 'csv': 2, 'py': 23, 'cfg': 8}\n",
    "# After\n",
    "{'txt': 14, 'csv': 17, 'py': 23, 'cfg': 8}"
   ]
  },
  {
   "cell_type": "markdown",
   "id": "5acfa62e",
   "metadata": {
    "lines_to_next_cell": 0
   },
   "source": [
    "#### delete entry\n",
    "- delete elements from a dictionary with the del keyword by passing the dictionary and the key to the element as if we were trying to access it. "
   ]
  },
  {
   "cell_type": "code",
   "execution_count": null,
   "id": "fb6d2ad2",
   "metadata": {},
   "outputs": [],
   "source": [
    "file_counts ={'jpeg': 10, 'txt': 14, 'csv': 17, 'py': 23, 'cfg': 8}\n",
    "del file_counts[\"cfg\"]\n",
    "print(file_counts)\n",
    "file_counts ={'jpeg': 10, 'txt': 14, 'csv': 17, 'py': 23}"
   ]
  },
  {
   "cell_type": "markdown",
   "id": "be3164a0",
   "metadata": {
    "lines_to_next_cell": 0
   },
   "source": [
    "### Iterating over the Contents of a Dictionary\n",
    "- Iterating Through Keys Directly\n",
    "- Iterating Through .items()\n",
    "- Iterating Through .keys()\n",
    "- Iterating Through .values()\n",
    "\n",
    "#### dir()\n",
    "To visualize the methods and attributes of any Python object. "
   ]
  },
  {
   "cell_type": "code",
   "execution_count": null,
   "id": "b341417d",
   "metadata": {
    "lines_to_next_cell": 0
   },
   "outputs": [],
   "source": [
    "dir({})\n",
    "['__class__',  ... , **'__iter__'**, ...]"
   ]
  },
  {
   "cell_type": "markdown",
   "id": "3131243f",
   "metadata": {},
   "source": [
    "For mappings (like dictionaries), .__iter__() should iterate over the keys: \n",
    "=> if you put a dictionary directly into a for loop, \n",
    "Python will automatically call .__iter__() on that dictionary, \n",
    "and you’ll get an iterator over its keys:"
   ]
  },
  {
   "cell_type": "code",
   "execution_count": null,
   "id": "5091258f",
   "metadata": {
    "lines_to_next_cell": 0
   },
   "outputs": [],
   "source": [
    "file_counts ={'jpeg': 10, 'txt': 14, 'csv': 17, 'py': 23}\n",
    "for key in file_counts: \n",
    "\tprint(key)\n",
    "#OUPUT\n",
    "jpg\n",
    "txt\n",
    "csv\n",
    "py"
   ]
  },
  {
   "cell_type": "markdown",
   "id": "0c8097e4",
   "metadata": {
    "lines_to_next_cell": 0
   },
   "source": [
    "#### to get access to the values, use the indexing operator [] with the dictionary and its keys"
   ]
  },
  {
   "cell_type": "code",
   "execution_count": null,
   "id": "4b414633",
   "metadata": {
    "lines_to_next_cell": 0
   },
   "outputs": [],
   "source": [
    ">>> for key in a_dict:\n",
    "...     print(key, '->', file_counts[key])\n",
    "jpeg -> 10\n",
    "txt -> 14\n",
    "csv -> 17\n",
    "py -> 23"
   ]
  },
  {
   "cell_type": "markdown",
   "id": "583c91e4",
   "metadata": {
    "lines_to_next_cell": 0
   },
   "source": [
    "### Iterating Through .items() method \n",
    "- returns a new view of the dictionary’s items:"
   ]
  },
  {
   "cell_type": "code",
   "execution_count": null,
   "id": "8e02b152",
   "metadata": {
    "lines_to_next_cell": 0
   },
   "outputs": [],
   "source": [
    "a_dict = {'color': 'blue', 'fruit': 'apple', 'pet': 'dog'}\n",
    "d_items = a_dict.items()\n",
    "d_items  # Here d_items is a view of items\n",
    "dict_items([('color', 'blue'), ('fruit', 'apple'), ('pet', 'dog')])"
   ]
  },
  {
   "cell_type": "markdown",
   "id": "43dc7749",
   "metadata": {},
   "source": [
    "- d_items provides a dynamic view on the dictionary’s entries => when the dictionary changes, the views reflect these changes.\n",
    "alternative using the **view object** returned by .items():"
   ]
  },
  {
   "cell_type": "code",
   "execution_count": null,
   "id": "2411b1ef",
   "metadata": {},
   "outputs": [],
   "source": [
    "for item in a_dict.items():\n",
    "...     print(item)\n",
    "...\n",
    "('color', 'blue')\n",
    "('fruit', 'apple')\n",
    "('pet', 'dog')"
   ]
  },
  {
   "cell_type": "code",
   "execution_count": null,
   "id": "07acda65",
   "metadata": {},
   "outputs": [],
   "source": [
    "for item in a_dict.items():\n",
    "\tprint(type(item))\n",
    "#OUTPUT\n",
    "('color', 'blue')\n",
    "<class 'tuple'>\n",
    "('fruit', 'apple')\n",
    "<class 'tuple'>\n",
    "('pet', 'dog')\n",
    "<class 'tuple'>"
   ]
  },
  {
   "cell_type": "markdown",
   "id": "4e31a432",
   "metadata": {},
   "source": [
    "Now you can do tuple unpacking to iterate through the keys and values of the dictionary you are working with."
   ]
  },
  {
   "cell_type": "code",
   "execution_count": null,
   "id": "18d0999b",
   "metadata": {},
   "outputs": [],
   "source": [
    "for key, value in a_dict.items():\n",
    "...     print(key, '->', value)\n",
    "...\n",
    "color -> blue\n",
    "fruit -> apple\n",
    "pet -> dog\n",
    "# now more readable and Pythonic."
   ]
  },
  {
   "cell_type": "markdown",
   "id": "d3e76900",
   "metadata": {
    "lines_to_next_cell": 0
   },
   "source": [
    "values() and .keys() return view objects just like .items(),\n",
    "\n",
    "### Iterating Through .keys() method"
   ]
  },
  {
   "cell_type": "code",
   "execution_count": null,
   "id": "6f0d0479",
   "metadata": {
    "lines_to_next_cell": 0
   },
   "outputs": [],
   "source": [
    "a_dict = {'color': 'blue', 'fruit': 'apple', 'pet': 'dog'}\n",
    ">>> keys = a_dict.keys()\n",
    ">>> keys\n",
    "dict_keys(['color', 'fruit', 'pet'])"
   ]
  },
  {
   "cell_type": "code",
   "execution_count": null,
   "id": "266c0503",
   "metadata": {
    "lines_to_next_cell": 0
   },
   "outputs": [],
   "source": [
    "for key in a_dict.keys():\n",
    "...     print(key)\n",
    "...\n",
    "color\n",
    "fruit\n",
    "pet"
   ]
  },
  {
   "cell_type": "code",
   "execution_count": null,
   "id": "025eaa5f",
   "metadata": {},
   "outputs": [],
   "source": [
    "for key in a_dict.keys():\n",
    "...     print(key, '->', a_dict[key])\n",
    "...\n",
    "color -> blue\n",
    "fruit -> apple\n",
    "pet -> dog"
   ]
  },
  {
   "cell_type": "markdown",
   "id": "3affadaa",
   "metadata": {
    "lines_to_next_cell": 0
   },
   "source": [
    "### Iterating Through .values() method"
   ]
  },
  {
   "cell_type": "code",
   "execution_count": null,
   "id": "144d127a",
   "metadata": {
    "lines_to_next_cell": 0
   },
   "outputs": [],
   "source": [
    "a_dict = {'color': 'blue', 'fruit': 'apple', 'pet': 'dog'}\n",
    "values = a_dict.values()\n",
    "values\n",
    "dict_values(['blue', 'apple', 'dog'])"
   ]
  },
  {
   "cell_type": "code",
   "execution_count": null,
   "id": "f3422985",
   "metadata": {},
   "outputs": [],
   "source": [
    "for value in a_dict.values():\n",
    "...     print(value)\n",
    "...\n",
    "blue\n",
    "apple\n",
    "dog"
   ]
  },
  {
   "cell_type": "markdown",
   "id": "cd4bf586",
   "metadata": {},
   "source": [
    "So if you use a dictionary in a for loop, the iteration variable will go through the keys in the dictionary.\n",
    "to access the associated values, you can either use the keys as indexes of the dictionary \n",
    "or \n",
    "you can use the items method which returns a tuple for each element in the dictionary. \n",
    "The tuple's first element is the key. \n",
    "Its second element is the value. "
   ]
  },
  {
   "cell_type": "code",
   "execution_count": null,
   "id": "c8f1a2e9",
   "metadata": {},
   "outputs": [],
   "source": [
    "file_counts ={'jpeg': 10, 'txt': 14, 'csv': 2, 'py': 23}\n",
    "for ext, amount in file_counts.items(): \n",
    "  print(\"there are {} files with the .{} extension\".format(amount, ext)) \n",
    "\n",
    "#OUTPUT\n",
    "> there are 10 files with the .jpgextension\n",
    "> there are 14 files with the .txtextension\n",
    "> there are 2 files with the .csvextension\n",
    "> there are 23 files with the .pyextension"
   ]
  },
  {
   "cell_type": "markdown",
   "id": "a6f3d772",
   "metadata": {},
   "source": [
    "To access the keys of a dictionary or the values with their corresponding dictionary methods"
   ]
  },
  {
   "cell_type": "code",
   "execution_count": null,
   "id": "ace4bd4b",
   "metadata": {
    "lines_to_next_cell": 0
   },
   "outputs": [],
   "source": [
    "print(file_counts.keys())\n",
    "dict_keys(['jpg', 'txt', 'csv', 'py'])\n",
    "\n",
    "print(file_counts.values())\n",
    "dict_values([10, 14, 2, 23])"
   ]
  },
  {
   "cell_type": "markdown",
   "id": "9c588663",
   "metadata": {
    "lines_to_next_cell": 0
   },
   "source": [
    "These methods return special data types related to the dictionary. You just need to iterate them as you would with any sequence."
   ]
  },
  {
   "cell_type": "code",
   "execution_count": null,
   "id": "fe583c4b",
   "metadata": {
    "lines_to_next_cell": 0
   },
   "outputs": [],
   "source": [
    "for value in file_counts.values(): \n",
    "   print(value)\n",
    "10\n",
    "14\n",
    "2\n",
    "23"
   ]
  },
  {
   "cell_type": "markdown",
   "id": "1f85b239",
   "metadata": {},
   "source": [
    "* use items to get key value pairs, `file_counts.items()`\n",
    "* keys to get the keys, and file_counts.keys()\n",
    "* values to get the values. file_counts.values()\n",
    "\n"
   ]
  },
  {
   "cell_type": "markdown",
   "id": "62e3562e",
   "metadata": {},
   "source": [
    "### Iterating Over Dictionaries\n",
    "> You can iterate over dictionaries using a for loop, just like with strings, lists, and tuples. This will iterate over the sequence of keys in the dictionary. \n",
    "\n",
    "> to access the corresponding values associated with the keys, you could use the keys as indexes. \n",
    "Or \n",
    "> you can use the items method on the dictionary, like dictionary.items(). This method returns a tuple for each element in the dictionary, where the first element in the tuple is the key and the second is the value.\n",
    "\n",
    "> to access the keys in a dictionary, you could use the keys() method on the dictionary: dictionary.keys(). \n",
    "\n",
    "> to access the values, you could use the values() method: \n",
    "dictionary.values().\n",
    "\n",
    "***\n",
    "\n",
    "### learn how to tell when to use dictionaries and when to use lists.\n",
    "\n",
    "### Dictionaries vs. Lists\n",
    "\n",
    "When is it best to use a list and when is the dictionary the way to go? \n",
    "Think about the kind of information you can represent in each data structure. \n",
    "If you've got a list of information you'd like **to collect and use in your script** then the list is probably the right approach. \n",
    "\n",
    "For example, \n",
    "if you want to store a series of IP addresses to ping, you could put them all into a list and iterate over them. \n",
    "ip_addresses = [“192.168.1.1”, “127.0.0.1”, “8.8.8.8”]\n",
    "Or \n",
    "if you had a list of host names and their corresponding IP addresses, you might want to pair them as key values in a dictionary.\n",
    "host_addresses = {“router”: “192.168.1.1”, “localhost”: “127.0.0.1”, “google”: “8.8.8.8”}\n",
    "\n",
    "Because of the way dictionaries work, it's super easy and fast **to search for an element** in them. \n",
    "Let's say you have a dictionary that has usernames as keys, and the groups they belong to as values. \n",
    "It doesn't matter if you have 10 users or 10,000 users, accessing the entry for a given user will take the same time. \n",
    "Amazing, but this isn't true for lists. If you've got a list of 10 elements, and you need to check if one element is in the list, it'll be a very fast check but if your list has 10,000 elements it'll take significantly longer to check if the element you're looking for is there. \n",
    "\n",
    "So in general, \n",
    "- use dictionaries when you plan on searching for a specific element. \n",
    "\n",
    "Another interesting difference is the types of values that we can store in lists and dictionaries. \n",
    "- In lists, you can store any data type. \n",
    "- In dictionaries, we can store any data type for the values but the keys are restricted to specific types. \n",
    "\n",
    "### rule of thumb, \n",
    "you can use any immutable data type; numbers, booleans, strings and tuples as dictionary keys. \n",
    "But you can't use lists or dictionaries for that. \n",
    "On the flip side, like we said, the values associated with keys can be any type, including lists or even other dictionaries. You can use them to represent more complex data structures like directory trees in the file system. \n",
    "\n",
    "There's a ton of different key value pairs that we need to work with in system administration.\n",
    "So I use dictionaries all the time. They're especially useful with large data sets. \n",
    "When I need to write a script that gets specific keys out of it to manipulate or modify the associated value.\n",
    "\n",
    "In Python, a dictionary can only hold a single value for a given key. \n",
    "To workaround this, our single value can be a list containing multiple values. \n",
    "A dictionary called \"wardrobe\" with items of clothing and their colors. \n",
    "Fill in the blanks to print a line for each item of clothing with each color, for example: \"red shirt\", \"blue shirt\", and so on."
   ]
  },
  {
   "cell_type": "code",
   "execution_count": null,
   "id": "e33d7180",
   "metadata": {},
   "outputs": [],
   "source": [
    "wardrobe = {\"shirt\":[\"red\",\"blue\",\"white\"], \n",
    "\t\t\t\"jeans\":[\"blue\",\"black\"]}\n",
    "for key, value in wardrobe.items():\n",
    "    for i in value:\n",
    "        print(\"{} {}”.format(value, key))\n",
    "\n",
    "#Output:\n",
    "['red', 'blue', 'white'] shirt\n",
    "['red', 'blue', 'white'] shirt\n",
    "['red', 'blue', 'white'] shirt\n",
    "['blue', 'black'] jeans\n",
    "['blue', 'black'] jeans"
   ]
  },
  {
   "cell_type": "code",
   "execution_count": null,
   "id": "5fbae0ed",
   "metadata": {},
   "outputs": [],
   "source": [
    "wardrobe = {\"shirt\":[\"red\",\"blue\",\"white\"], \n",
    "\t\t\t\"jeans\":[\"blue\",\"black\"]}\n",
    "for key, value in wardrobe.items():\n",
    "    for i in value:\n",
    "        print(\"{} {}”.format(i, key))\n",
    "\n",
    "# Output:\n",
    "# red shirt\n",
    "# blue shirt\n",
    "# white shirt\n",
    "# blue jeans\n",
    "# black jeans"
   ]
  },
  {
   "cell_type": "markdown",
   "id": "4f3b761b",
   "metadata": {},
   "source": [
    "*** \n",
    "\n",
    "| Operations        |  what it does          | \n",
    "|:-------------|:------------------|\n",
    "| len(dictionary)           | Returns the number of items in the dictionary | \n",
    "| for key in dictionary | Iterates over each key in the dictionary   | \n",
    "| for key, value in dictionary.items() | Iterates over each key,value pair in the dictionary | \n",
    "| if key in dictionary           | Checks whether the key is in the dictionary | \n",
    "| dictionary[key] | Accesses the item with key key of the dictionary | \n",
    "| dictionary[key] = value | Sets the value associated with key | \n",
    "| del dictionary[key] | Removes the item with key key from the dictionary | "
   ]
  },
  {
   "cell_type": "markdown",
   "id": "7101451d",
   "metadata": {},
   "source": [
    "| Methods        | what it does         |\n",
    "|:-------------|:------------------|\n",
    "| dict.get(key, default) | Returns the element corresponding to key, or default if it's not present |\n",
    "| dict.keys() | Returns a sequence containing the keys in the dictionary   | \n",
    "| dict.values() | Returns a sequence containing the values in the dictionary  | \n",
    "| dict.update(other_dictionary) | Updates the dictionary with the items coming from the other dictionary. Existing entries will be replaced; new entries will be added. | \n",
    "| dict.clear()           | Removes all the items of the dictionary | \n",
    "\n",
    "[documentation for dictionary operations and methods](https://docs.python.org/3/library/stdtypes.html#mapping-types-dict)\n",
    "\n",
    "*** "
   ]
  },
  {
   "cell_type": "markdown",
   "id": "42330d6e",
   "metadata": {},
   "source": [
    "### Tutorial \n",
    "*  [docs.python.org](http://docs.python.org/tutorial/)\n",
    "\n",
    "### Style Guide for Python Code\n",
    "* [python.org](http://www.python.org/dev/peps/pep-0008/)"
   ]
  },
  {
   "cell_type": "markdown",
   "id": "b28c3a05",
   "metadata": {},
   "source": [
    "#### Formatting\n",
    "- can be messy with all the quotation marks.\n",
    "- single for the dict and double for formatting. "
   ]
  },
  {
   "cell_type": "code",
   "execution_count": null,
   "id": "c145b0e6",
   "metadata": {},
   "outputs": [],
   "source": [
    ">>> comedian = {'name': 'Eric Idle', 'age': 74}\n",
    ">>> f\"The comedian is {comedian['name']}, aged {comedian['age']}.\"\n",
    "The comedian is Eric Idle, aged 74."
   ]
  }
 ],
 "metadata": {
  "jupytext": {
   "cell_metadata_filter": "-all",
   "main_language": "python",
   "notebook_metadata_filter": "-all"
  },
  "kernelspec": {
   "display_name": "Python 3 (ipykernel)",
   "language": "python",
   "name": "python3"
  },
  "language_info": {
   "codemirror_mode": {
    "name": "ipython",
    "version": 3
   },
   "file_extension": ".py",
   "mimetype": "text/x-python",
   "name": "python",
   "nbconvert_exporter": "python",
   "pygments_lexer": "ipython3",
   "version": "3.12.3"
  }
 },
 "nbformat": 4,
 "nbformat_minor": 5
}
